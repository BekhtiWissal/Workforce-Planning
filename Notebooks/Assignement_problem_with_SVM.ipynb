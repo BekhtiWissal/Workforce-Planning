{
 "cells": [
  {
   "cell_type": "code",
   "execution_count": 1,
   "metadata": {},
   "outputs": [
    {
     "name": "stdout",
     "output_type": "stream",
     "text": [
      "  Task_ID     Required_Skill Assembly_Line Employee_ID Assigned_Employee\n",
      "0   T_002          Packaging             1       E_019             E_019\n",
      "1   T_002          Packaging             1       E_038             E_038\n",
      "2   T_002          Packaging             1       E_051             E_051\n",
      "3   T_007      Quality_Check             2       E_026             E_026\n",
      "4   T_007      Quality_Check             2       E_027             E_027\n",
      "5   T_007      Quality_Check             2       E_043             E_043\n",
      "6   T_001  Machine_Operation             6       E_032             E_032\n",
      "7   T_003           Assembly             6       E_041             E_041\n"
     ]
    }
   ],
   "source": [
    "import pandas as pd\n",
    "from sklearn.model_selection import train_test_split\n",
    "from sklearn.svm import SVC\n",
    "\n",
    "df_employees = pd.read_excel('/home/wissal/Téléchargements/Updated_Employees_Data.xlsx')  # Adjust the path\n",
    "df_tasks = pd.read_excel('/home/wissal/Téléchargements/New_Tasks_Data.xlsx')  # Adjust the path\n",
    "\n",
    "merged_df = pd.merge(df_employees, df_tasks, left_on='Skills', right_on='Required_Skill')\n",
    "\n",
    "tasks_features = merged_df['Assembly_Line'].apply(lambda x: [f\"Assembly_Line_{i}\" for i in range(x)])\n",
    "tasks_features = tasks_features.str.join(',').str.get_dummies(',')\n",
    "\n",
    "employee_features = pd.concat([merged_df['Available_Days'].apply(lambda x: [f\"Day_{day}\" for day in x]).str.join(',').str.get_dummies(','),\n",
    "                              merged_df['Available_Shifts'].apply(lambda x: [f\"Shift_{shift}\" for shift in x]).str.join(',').str.get_dummies(','),\n",
    "                              merged_df['Skills'].str.get_dummies(',')],\n",
    "                             axis=1)\n",
    "\n",
    "X = pd.concat([employee_features, tasks_features], axis=1)\n",
    "\n",
    "y = merged_df['Employee_ID']\n",
    "\n",
    "X_train, X_test, y_train, y_test = train_test_split(X, y, test_size=0.2, random_state=42)\n",
    "\n",
    "clf = SVC()\n",
    "clf.fit(X_train, y_train)\n",
    "\n",
    "all_predictions = clf.predict(X)\n",
    "\n",
    "merged_df['Assigned_Employee'] = all_predictions\n",
    "\n",
    "selected_tasks = pd.DataFrame(columns=merged_df.columns)\n",
    "selected_employees = set()\n",
    "\n",
    "for _, task_row in merged_df.iterrows():\n",
    "    if task_row['Employee_ID'] not in selected_employees:\n",
    "        selected_employees.add(task_row['Employee_ID'])\n",
    "        selected_tasks = pd.concat([selected_tasks, pd.DataFrame([task_row])], ignore_index=True)\n",
    "\n",
    "        if len(selected_tasks) == 30:\n",
    "            break\n",
    "\n",
    "print(selected_tasks[['Task_ID', 'Required_Skill', 'Assembly_Line', 'Employee_ID', 'Assigned_Employee']])\n"
   ]
  }
 ],
 "metadata": {
  "kernelspec": {
   "display_name": "myenv",
   "language": "python",
   "name": "python3"
  },
  "language_info": {
   "codemirror_mode": {
    "name": "ipython",
    "version": 3
   },
   "file_extension": ".py",
   "mimetype": "text/x-python",
   "name": "python",
   "nbconvert_exporter": "python",
   "pygments_lexer": "ipython3",
   "version": "3.8.18"
  }
 },
 "nbformat": 4,
 "nbformat_minor": 2
}
